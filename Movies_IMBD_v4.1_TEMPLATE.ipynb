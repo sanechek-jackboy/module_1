{
 "cells": [
  {
   "cell_type": "code",
   "execution_count": 1,
   "metadata": {
    "_cell_guid": "b1076dfc-b9ad-4769-8c92-a6c4dae69d19",
    "_uuid": "8f2839f25d086af736a60e9eeb907d3b93b6e0e5",
    "colab": {},
    "colab_type": "code",
    "id": "U2D2gTdJVp90"
   },
   "outputs": [],
   "source": [
    "import numpy as np\n",
    "import pandas as pd\n",
    "import seaborn as sns\n",
    "import matplotlib.pyplot as plt\n",
    "from collections import Counter"
   ]
  },
  {
   "cell_type": "code",
   "execution_count": 108,
   "metadata": {
    "_cell_guid": "79c7e3d0-c299-4dcb-8224-4455121ee9b0",
    "_uuid": "d629ff2d2480ee46fbb7e2d37f6b5fab8052498a",
    "colab": {},
    "colab_type": "code",
    "id": "oyGfxL3eVp9-"
   },
   "outputs": [
    {
     "data": {
      "text/html": [
       "<div>\n",
       "<style scoped>\n",
       "    .dataframe tbody tr th:only-of-type {\n",
       "        vertical-align: middle;\n",
       "    }\n",
       "\n",
       "    .dataframe tbody tr th {\n",
       "        vertical-align: top;\n",
       "    }\n",
       "\n",
       "    .dataframe thead th {\n",
       "        text-align: right;\n",
       "    }\n",
       "</style>\n",
       "<table border=\"1\" class=\"dataframe\">\n",
       "  <thead>\n",
       "    <tr style=\"text-align: right;\">\n",
       "      <th></th>\n",
       "      <th>imdb_id</th>\n",
       "      <th>budget</th>\n",
       "      <th>revenue</th>\n",
       "      <th>original_title</th>\n",
       "      <th>cast</th>\n",
       "      <th>director</th>\n",
       "      <th>tagline</th>\n",
       "      <th>overview</th>\n",
       "      <th>runtime</th>\n",
       "      <th>genres</th>\n",
       "      <th>production_companies</th>\n",
       "      <th>release_date</th>\n",
       "      <th>vote_average</th>\n",
       "      <th>release_year</th>\n",
       "    </tr>\n",
       "  </thead>\n",
       "  <tbody>\n",
       "    <tr>\n",
       "      <th>1046</th>\n",
       "      <td>tt1931533</td>\n",
       "      <td>15000000</td>\n",
       "      <td>19422261</td>\n",
       "      <td>Seven Psychopaths</td>\n",
       "      <td>Colin Farrell|Sam Rockwell|Christopher Walken|...</td>\n",
       "      <td>Martin McDonagh</td>\n",
       "      <td>They Won't Take Any Shih Tzu.</td>\n",
       "      <td>A struggling screenwriter inadvertently become...</td>\n",
       "      <td>110</td>\n",
       "      <td>Comedy|Crime|Thriller</td>\n",
       "      <td>Blueprint Pictures|CBS Films|British Film Inst...</td>\n",
       "      <td>9/7/2012</td>\n",
       "      <td>6.6</td>\n",
       "      <td>2012</td>\n",
       "    </tr>\n",
       "    <tr>\n",
       "      <th>77</th>\n",
       "      <td>tt1754656</td>\n",
       "      <td>64000000</td>\n",
       "      <td>97571250</td>\n",
       "      <td>The Little Prince</td>\n",
       "      <td>Jeff Bridges|Rachel McAdams|Paul Rudd|Marion C...</td>\n",
       "      <td>Mark Osborne</td>\n",
       "      <td>Growing up isn't the problem... forgetting is.</td>\n",
       "      <td>Based on the best-seller book 'The Little Prin...</td>\n",
       "      <td>92</td>\n",
       "      <td>Adventure|Animation|Fantasy</td>\n",
       "      <td>Onyx Films|Orange Studios|CityMation|On Entert...</td>\n",
       "      <td>7/29/2015</td>\n",
       "      <td>7.5</td>\n",
       "      <td>2015</td>\n",
       "    </tr>\n",
       "    <tr>\n",
       "      <th>463</th>\n",
       "      <td>tt0427152</td>\n",
       "      <td>69000000</td>\n",
       "      <td>86387857</td>\n",
       "      <td>Dinner for Schmucks</td>\n",
       "      <td>Steve Carell|Paul Rudd|Stephanie Szostak|Jemai...</td>\n",
       "      <td>Jay Roach</td>\n",
       "      <td>Takes One To Know One.</td>\n",
       "      <td>Rising executive Tim Wagner works for a boss w...</td>\n",
       "      <td>114</td>\n",
       "      <td>Comedy</td>\n",
       "      <td>Paramount Pictures|DreamWorks SKG|Spyglass Ent...</td>\n",
       "      <td>7/30/2010</td>\n",
       "      <td>5.4</td>\n",
       "      <td>2010</td>\n",
       "    </tr>\n",
       "    <tr>\n",
       "      <th>1477</th>\n",
       "      <td>tt0430357</td>\n",
       "      <td>135000000</td>\n",
       "      <td>163794509</td>\n",
       "      <td>Miami Vice</td>\n",
       "      <td>Jamie Foxx|Colin Farrell|Gong Li|Luis Tosar|Na...</td>\n",
       "      <td>Michael Mann</td>\n",
       "      <td>No Law. No Rules. No Order.</td>\n",
       "      <td>Miami Vice is a feature film based on the 1980...</td>\n",
       "      <td>134</td>\n",
       "      <td>Action|Adventure|Crime|Thriller</td>\n",
       "      <td>Universal Pictures|Forward Pass|Motion Picture...</td>\n",
       "      <td>7/27/2006</td>\n",
       "      <td>5.7</td>\n",
       "      <td>2006</td>\n",
       "    </tr>\n",
       "    <tr>\n",
       "      <th>1201</th>\n",
       "      <td>tt1272878</td>\n",
       "      <td>61000000</td>\n",
       "      <td>131940411</td>\n",
       "      <td>2 Guns</td>\n",
       "      <td>Denzel Washington|Mark Wahlberg|Paula Patton|B...</td>\n",
       "      <td>Baltasar KormÃ¡kur</td>\n",
       "      <td>2 Guns, 1 Bank.</td>\n",
       "      <td>A DEA agent and an undercover Naval Intelligen...</td>\n",
       "      <td>109</td>\n",
       "      <td>Action|Crime|Drama|Comedy|Thriller</td>\n",
       "      <td>Universal Studios|Marc Platt Productions|Emmet...</td>\n",
       "      <td>8/2/2013</td>\n",
       "      <td>6.6</td>\n",
       "      <td>2013</td>\n",
       "    </tr>\n",
       "  </tbody>\n",
       "</table>\n",
       "</div>"
      ],
      "text/plain": [
       "        imdb_id     budget    revenue       original_title  \\\n",
       "1046  tt1931533   15000000   19422261    Seven Psychopaths   \n",
       "77    tt1754656   64000000   97571250    The Little Prince   \n",
       "463   tt0427152   69000000   86387857  Dinner for Schmucks   \n",
       "1477  tt0430357  135000000  163794509           Miami Vice   \n",
       "1201  tt1272878   61000000  131940411               2 Guns   \n",
       "\n",
       "                                                   cast            director  \\\n",
       "1046  Colin Farrell|Sam Rockwell|Christopher Walken|...     Martin McDonagh   \n",
       "77    Jeff Bridges|Rachel McAdams|Paul Rudd|Marion C...        Mark Osborne   \n",
       "463   Steve Carell|Paul Rudd|Stephanie Szostak|Jemai...           Jay Roach   \n",
       "1477  Jamie Foxx|Colin Farrell|Gong Li|Luis Tosar|Na...        Michael Mann   \n",
       "1201  Denzel Washington|Mark Wahlberg|Paula Patton|B...  Baltasar KormÃ¡kur   \n",
       "\n",
       "                                             tagline  \\\n",
       "1046                   They Won't Take Any Shih Tzu.   \n",
       "77    Growing up isn't the problem... forgetting is.   \n",
       "463                           Takes One To Know One.   \n",
       "1477                     No Law. No Rules. No Order.   \n",
       "1201                                 2 Guns, 1 Bank.   \n",
       "\n",
       "                                               overview  runtime  \\\n",
       "1046  A struggling screenwriter inadvertently become...      110   \n",
       "77    Based on the best-seller book 'The Little Prin...       92   \n",
       "463   Rising executive Tim Wagner works for a boss w...      114   \n",
       "1477  Miami Vice is a feature film based on the 1980...      134   \n",
       "1201  A DEA agent and an undercover Naval Intelligen...      109   \n",
       "\n",
       "                                  genres  \\\n",
       "1046               Comedy|Crime|Thriller   \n",
       "77           Adventure|Animation|Fantasy   \n",
       "463                               Comedy   \n",
       "1477     Action|Adventure|Crime|Thriller   \n",
       "1201  Action|Crime|Drama|Comedy|Thriller   \n",
       "\n",
       "                                   production_companies release_date  \\\n",
       "1046  Blueprint Pictures|CBS Films|British Film Inst...     9/7/2012   \n",
       "77    Onyx Films|Orange Studios|CityMation|On Entert...    7/29/2015   \n",
       "463   Paramount Pictures|DreamWorks SKG|Spyglass Ent...    7/30/2010   \n",
       "1477  Universal Pictures|Forward Pass|Motion Picture...    7/27/2006   \n",
       "1201  Universal Studios|Marc Platt Productions|Emmet...     8/2/2013   \n",
       "\n",
       "      vote_average  release_year  \n",
       "1046           6.6          2012  \n",
       "77             7.5          2015  \n",
       "463            5.4          2010  \n",
       "1477           5.7          2006  \n",
       "1201           6.6          2013  "
      ]
     },
     "execution_count": 108,
     "metadata": {},
     "output_type": "execute_result"
    }
   ],
   "source": [
    "data = pd.read_csv('movie_bd_v5.xls')\n",
    "data.sample(5)"
   ]
  },
  {
   "cell_type": "code",
   "execution_count": 3,
   "metadata": {
    "colab": {},
    "colab_type": "code",
    "id": "CoYUnagMVp-C"
   },
   "outputs": [
    {
     "data": {
      "text/html": [
       "<div>\n",
       "<style scoped>\n",
       "    .dataframe tbody tr th:only-of-type {\n",
       "        vertical-align: middle;\n",
       "    }\n",
       "\n",
       "    .dataframe tbody tr th {\n",
       "        vertical-align: top;\n",
       "    }\n",
       "\n",
       "    .dataframe thead th {\n",
       "        text-align: right;\n",
       "    }\n",
       "</style>\n",
       "<table border=\"1\" class=\"dataframe\">\n",
       "  <thead>\n",
       "    <tr style=\"text-align: right;\">\n",
       "      <th></th>\n",
       "      <th>budget</th>\n",
       "      <th>revenue</th>\n",
       "      <th>runtime</th>\n",
       "      <th>vote_average</th>\n",
       "      <th>release_year</th>\n",
       "    </tr>\n",
       "  </thead>\n",
       "  <tbody>\n",
       "    <tr>\n",
       "      <th>count</th>\n",
       "      <td>1.889000e+03</td>\n",
       "      <td>1.889000e+03</td>\n",
       "      <td>1889.000000</td>\n",
       "      <td>1889.000000</td>\n",
       "      <td>1889.000000</td>\n",
       "    </tr>\n",
       "    <tr>\n",
       "      <th>mean</th>\n",
       "      <td>5.431083e+07</td>\n",
       "      <td>1.553653e+08</td>\n",
       "      <td>109.658549</td>\n",
       "      <td>6.140762</td>\n",
       "      <td>2007.860773</td>\n",
       "    </tr>\n",
       "    <tr>\n",
       "      <th>std</th>\n",
       "      <td>4.858721e+07</td>\n",
       "      <td>2.146698e+08</td>\n",
       "      <td>18.017041</td>\n",
       "      <td>0.764763</td>\n",
       "      <td>4.468841</td>\n",
       "    </tr>\n",
       "    <tr>\n",
       "      <th>min</th>\n",
       "      <td>5.000000e+06</td>\n",
       "      <td>2.033165e+06</td>\n",
       "      <td>63.000000</td>\n",
       "      <td>3.300000</td>\n",
       "      <td>2000.000000</td>\n",
       "    </tr>\n",
       "    <tr>\n",
       "      <th>25%</th>\n",
       "      <td>2.000000e+07</td>\n",
       "      <td>3.456058e+07</td>\n",
       "      <td>97.000000</td>\n",
       "      <td>5.600000</td>\n",
       "      <td>2004.000000</td>\n",
       "    </tr>\n",
       "    <tr>\n",
       "      <th>50%</th>\n",
       "      <td>3.800000e+07</td>\n",
       "      <td>8.361541e+07</td>\n",
       "      <td>107.000000</td>\n",
       "      <td>6.100000</td>\n",
       "      <td>2008.000000</td>\n",
       "    </tr>\n",
       "    <tr>\n",
       "      <th>75%</th>\n",
       "      <td>7.200000e+07</td>\n",
       "      <td>1.782626e+08</td>\n",
       "      <td>120.000000</td>\n",
       "      <td>6.600000</td>\n",
       "      <td>2012.000000</td>\n",
       "    </tr>\n",
       "    <tr>\n",
       "      <th>max</th>\n",
       "      <td>3.800000e+08</td>\n",
       "      <td>2.781506e+09</td>\n",
       "      <td>214.000000</td>\n",
       "      <td>8.100000</td>\n",
       "      <td>2015.000000</td>\n",
       "    </tr>\n",
       "  </tbody>\n",
       "</table>\n",
       "</div>"
      ],
      "text/plain": [
       "             budget       revenue      runtime  vote_average  release_year\n",
       "count  1.889000e+03  1.889000e+03  1889.000000   1889.000000   1889.000000\n",
       "mean   5.431083e+07  1.553653e+08   109.658549      6.140762   2007.860773\n",
       "std    4.858721e+07  2.146698e+08    18.017041      0.764763      4.468841\n",
       "min    5.000000e+06  2.033165e+06    63.000000      3.300000   2000.000000\n",
       "25%    2.000000e+07  3.456058e+07    97.000000      5.600000   2004.000000\n",
       "50%    3.800000e+07  8.361541e+07   107.000000      6.100000   2008.000000\n",
       "75%    7.200000e+07  1.782626e+08   120.000000      6.600000   2012.000000\n",
       "max    3.800000e+08  2.781506e+09   214.000000      8.100000   2015.000000"
      ]
     },
     "execution_count": 3,
     "metadata": {},
     "output_type": "execute_result"
    }
   ],
   "source": [
    "data.describe()"
   ]
  },
  {
   "cell_type": "markdown",
   "metadata": {
    "colab_type": "text",
    "id": "DTIt7ezGVp-G"
   },
   "source": [
    "# Предобработка"
   ]
  },
  {
   "cell_type": "code",
   "execution_count": 88,
   "metadata": {
    "colab": {},
    "colab_type": "code",
    "id": "jNb40DwKVp-H"
   },
   "outputs": [],
   "source": [
    "answers = {} \n",
    "profit = data.revenue - data.budget\n",
    "GenresDict = {}\n",
    "Actors = {}\n",
    "\n",
    "def MonthCounter(s):\n",
    "    if s[1] == '/':\n",
    "        return s[:1]\n",
    "    return s[:2]\n",
    "\n",
    "def SummerFilms(s):\n",
    "    if (s[0] > '5') & (s[0] < '9'):\n",
    "        return \"Фильм вышел летом\"\n",
    "    return \"Фильм вышел не летом\"\n",
    "\n",
    "def WinterFilms(s):\n",
    "    if (s[0] < '3') | (s[:2] == '12'):\n",
    "        return 1\n",
    "    return 0\n",
    "\n",
    "def ActorCount(line):\n",
    "    s = line\n",
    "    line = line.split('|')\n",
    "    for actor in line:\n",
    "        if actor in Actors.keys():\n",
    "            Actors[actor] += 1\n",
    "        else:\n",
    "            Actors[actor] = 1\n",
    "    return s\n",
    " \n",
    "def GenreCount(line):\n",
    "    s = line\n",
    "    line = line.split('|')\n",
    "    for genre in line:\n",
    "        if genre in GenresDict.keys():\n",
    "            GenresDict[genre] += 1\n",
    "        else:\n",
    "            GenresDict[genre] = 1\n",
    "            \n",
    "def FindCage(line):\n",
    "    if 'Nicolas Cage' in line:\n",
    "        return 'Nicolas Cage'\n",
    "    return line\n",
    "\n",
    "def FindAction(line):\n",
    "    if 'Action' in line:\n",
    "        return 'Action'\n",
    "    return line\n",
    "\n",
    "def WinterFilms23(s):\n",
    "    if (s[0] < '3') | (s[:2] == '12'):\n",
    "        return 'Winter'\n",
    "    return s\n"
   ]
  },
  {
   "cell_type": "markdown",
   "metadata": {
    "colab_type": "text",
    "id": "YxZaH-nPVp-L"
   },
   "source": [
    "# 1. У какого фильма из списка самый большой бюджет?"
   ]
  },
  {
   "cell_type": "markdown",
   "metadata": {
    "colab_type": "text",
    "id": "Nd-G5gX6Vp-M"
   },
   "source": [
    "Использовать варианты ответов в коде решения запрещено.    \n",
    "Вы думаете и в жизни у вас будут варианты ответов?)"
   ]
  },
  {
   "cell_type": "code",
   "execution_count": 149,
   "metadata": {
    "colab": {},
    "colab_type": "code",
    "id": "uVnXAY5RVp-O"
   },
   "outputs": [],
   "source": [
    "# в словарь вставляем номер вопроса и ваш ответ на него\n",
    "# Пример: \n",
    "answers['1'] = '2. Spider-Man 3 (tt0413300)'\n",
    "# запишите свой вариант ответа\n",
    "answers['1'] = '723. Pirates of the Caribbean: On Stranger Tides (tt1298650)'\n",
    "# если ответили верно, можете добавить комментарий со значком \"+\"\n",
    "# +"
   ]
  },
  {
   "cell_type": "code",
   "execution_count": 56,
   "metadata": {
    "colab": {},
    "colab_type": "code",
    "id": "dZwb3m28Vp-S"
   },
   "outputs": [
    {
     "name": "stdout",
     "output_type": "stream",
     "text": [
      "723    Pirates of the Caribbean: On Stranger Tides\n",
      "Name: original_title, dtype: object\n"
     ]
    },
    {
     "data": {
      "text/plain": [
       "723    tt1298650\n",
       "Name: imdb_id, dtype: object"
      ]
     },
     "execution_count": 56,
     "metadata": {},
     "output_type": "execute_result"
    }
   ],
   "source": [
    "print(data[data.budget == data.budget.max()].original_title)\n",
    "data[data.budget == data.budget.max()].imdb_id"
   ]
  },
  {
   "cell_type": "markdown",
   "metadata": {
    "colab_type": "text",
    "id": "K7L3nbRXVp-X"
   },
   "source": [
    "ВАРИАНТ 2"
   ]
  },
  {
   "cell_type": "code",
   "execution_count": 0,
   "metadata": {
    "colab": {},
    "colab_type": "code",
    "id": "OGaoQI7rVp-X"
   },
   "outputs": [],
   "source": [
    "# можно добавлять разные варианты решения"
   ]
  },
  {
   "cell_type": "markdown",
   "metadata": {
    "colab_type": "text",
    "id": "FNRbbI3vVp-c"
   },
   "source": [
    "# 2. Какой из фильмов самый длительный (в минутах)?"
   ]
  },
  {
   "cell_type": "code",
   "execution_count": 150,
   "metadata": {
    "colab": {},
    "colab_type": "code",
    "id": "vHAoEXNTVp-d"
   },
   "outputs": [],
   "source": [
    "# думаю логику работы с этим словарем вы уже поняли, \n",
    "# по этому не буду больше его дублировать\n",
    "answers['2'] = '1157. Gods and Generals (tt0279111)'\n",
    "# +"
   ]
  },
  {
   "cell_type": "code",
   "execution_count": 12,
   "metadata": {
    "colab": {},
    "colab_type": "code",
    "id": "ot-VX2XrVp-g"
   },
   "outputs": [
    {
     "name": "stdout",
     "output_type": "stream",
     "text": [
      "1157    Gods and Generals\n",
      "Name: original_title, dtype: object\n"
     ]
    },
    {
     "data": {
      "text/plain": [
       "1157    tt0279111\n",
       "Name: imdb_id, dtype: object"
      ]
     },
     "execution_count": 12,
     "metadata": {},
     "output_type": "execute_result"
    }
   ],
   "source": [
    "print(data[data.runtime == data.runtime.max()].original_title)\n",
    "data[data.runtime == data.runtime.max()].imdb_id"
   ]
  },
  {
   "cell_type": "markdown",
   "metadata": {
    "colab_type": "text",
    "id": "bapLlpW8Vp-k"
   },
   "source": [
    "# 3. Какой из фильмов самый короткий (в минутах)?\n",
    "\n",
    "\n",
    "\n"
   ]
  },
  {
   "cell_type": "code",
   "execution_count": 151,
   "metadata": {},
   "outputs": [],
   "source": [
    "answers['3'] = '768. Winnie the Pooh (tt1449283)'\n",
    "# +"
   ]
  },
  {
   "cell_type": "code",
   "execution_count": 13,
   "metadata": {
    "colab": {},
    "colab_type": "code",
    "id": "YBxaSHuAVp-l"
   },
   "outputs": [
    {
     "name": "stdout",
     "output_type": "stream",
     "text": [
      "768    Winnie the Pooh\n",
      "Name: original_title, dtype: object\n"
     ]
    },
    {
     "data": {
      "text/plain": [
       "768    tt1449283\n",
       "Name: imdb_id, dtype: object"
      ]
     },
     "execution_count": 13,
     "metadata": {},
     "output_type": "execute_result"
    }
   ],
   "source": [
    "print(data[data.runtime == data.runtime.min()].original_title)\n",
    "data[data.runtime == data.runtime.min()].imdb_id"
   ]
  },
  {
   "cell_type": "markdown",
   "metadata": {
    "colab_type": "text",
    "id": "TfQbxbfNVp-p"
   },
   "source": [
    "# 4. Какова средняя длительность фильмов?\n"
   ]
  },
  {
   "cell_type": "code",
   "execution_count": 152,
   "metadata": {
    "colab": {},
    "colab_type": "code",
    "id": "5K6dKZYVVp-q"
   },
   "outputs": [],
   "source": [
    "answers['4'] = 110\n",
    "# +"
   ]
  },
  {
   "cell_type": "code",
   "execution_count": 16,
   "metadata": {},
   "outputs": [
    {
     "data": {
      "text/plain": [
       "109.6585494970884"
      ]
     },
     "execution_count": 16,
     "metadata": {},
     "output_type": "execute_result"
    }
   ],
   "source": [
    "data.runtime.mean()"
   ]
  },
  {
   "cell_type": "markdown",
   "metadata": {
    "colab_type": "text",
    "id": "r5TvbnT_Vp-u"
   },
   "source": [
    "# 5. Каково медианное значение длительности фильмов? "
   ]
  },
  {
   "cell_type": "code",
   "execution_count": 153,
   "metadata": {
    "colab": {},
    "colab_type": "code",
    "id": "iBROplKnVp-v"
   },
   "outputs": [],
   "source": [
    "answers['5'] = 107\n",
    "# +"
   ]
  },
  {
   "cell_type": "code",
   "execution_count": 17,
   "metadata": {},
   "outputs": [
    {
     "data": {
      "text/plain": [
       "107.0"
      ]
     },
     "execution_count": 17,
     "metadata": {},
     "output_type": "execute_result"
    }
   ],
   "source": [
    "data.runtime.median()"
   ]
  },
  {
   "cell_type": "markdown",
   "metadata": {
    "colab_type": "text",
    "id": "39P-deDSVp-y"
   },
   "source": [
    "# 6. Какой самый прибыльный фильм?\n",
    "#### Внимание! Здесь и далее под «прибылью» или «убытками» понимается разность между сборами и бюджетом фильма. (прибыль = сборы - бюджет) в нашем датасете это будет (profit = revenue - budget) "
   ]
  },
  {
   "cell_type": "code",
   "execution_count": 154,
   "metadata": {
    "colab": {},
    "colab_type": "code",
    "id": "UYZh4T9WVp-y"
   },
   "outputs": [],
   "source": [
    "answers['6'] = '239. Avatar (tt0499549)'\n",
    "# +"
   ]
  },
  {
   "cell_type": "code",
   "execution_count": 20,
   "metadata": {},
   "outputs": [
    {
     "name": "stdout",
     "output_type": "stream",
     "text": [
      "239    Avatar\n",
      "Name: original_title, dtype: object\n"
     ]
    },
    {
     "data": {
      "text/plain": [
       "239    tt0499549\n",
       "Name: imdb_id, dtype: object"
      ]
     },
     "execution_count": 20,
     "metadata": {},
     "output_type": "execute_result"
    }
   ],
   "source": [
    "print(data[(data.revenue - data.budget) == profit.max()].original_title)\n",
    "data[(data.revenue - data.budget) == profit.max()].imdb_id"
   ]
  },
  {
   "cell_type": "markdown",
   "metadata": {
    "colab_type": "text",
    "id": "M99JmIX4Vp-2"
   },
   "source": [
    "# 7. Какой фильм самый убыточный? "
   ]
  },
  {
   "cell_type": "code",
   "execution_count": 155,
   "metadata": {},
   "outputs": [],
   "source": [
    "answers['7'] = '1245. The Lone Ranger (tt1210819)'\n",
    "# +"
   ]
  },
  {
   "cell_type": "code",
   "execution_count": 23,
   "metadata": {
    "colab": {},
    "colab_type": "code",
    "id": "w-D2m4XPVp-3"
   },
   "outputs": [
    {
     "name": "stdout",
     "output_type": "stream",
     "text": [
      "1245    The Lone Ranger\n",
      "Name: original_title, dtype: object\n"
     ]
    },
    {
     "data": {
      "text/plain": [
       "1245    tt1210819\n",
       "Name: imdb_id, dtype: object"
      ]
     },
     "execution_count": 23,
     "metadata": {},
     "output_type": "execute_result"
    }
   ],
   "source": [
    "print(data[(data.revenue - data.budget) == profit.min()].original_title)\n",
    "data[(data.revenue - data.budget) == profit.min()].imdb_id"
   ]
  },
  {
   "cell_type": "markdown",
   "metadata": {
    "colab_type": "text",
    "id": "wEOM5ERVVp-6"
   },
   "source": [
    "# 8. У скольких фильмов из датасета объем сборов оказался выше бюджета?"
   ]
  },
  {
   "cell_type": "code",
   "execution_count": 156,
   "metadata": {},
   "outputs": [],
   "source": [
    "answers['8'] = 1478\n",
    "# +"
   ]
  },
  {
   "cell_type": "code",
   "execution_count": 26,
   "metadata": {
    "colab": {},
    "colab_type": "code",
    "id": "y00_7HD6Vp-7"
   },
   "outputs": [
    {
     "data": {
      "text/plain": [
       "imdb_id                 1478\n",
       "budget                  1478\n",
       "revenue                 1478\n",
       "original_title          1478\n",
       "cast                    1478\n",
       "director                1478\n",
       "tagline                 1478\n",
       "overview                1478\n",
       "runtime                 1478\n",
       "genres                  1478\n",
       "production_companies    1478\n",
       "release_date            1478\n",
       "vote_average            1478\n",
       "release_year            1478\n",
       "dtype: int64"
      ]
     },
     "execution_count": 26,
     "metadata": {},
     "output_type": "execute_result"
    }
   ],
   "source": [
    "data[data.revenue - data.budget > 0].count()"
   ]
  },
  {
   "cell_type": "markdown",
   "metadata": {
    "colab_type": "text",
    "id": "xhpspA9KVp_A"
   },
   "source": [
    "# 9. Какой фильм оказался самым кассовым в 2008 году?"
   ]
  },
  {
   "cell_type": "code",
   "execution_count": 157,
   "metadata": {},
   "outputs": [],
   "source": [
    "answers['9'] = '599. The Dark Knight (tt0468569)'\n",
    "# +"
   ]
  },
  {
   "cell_type": "code",
   "execution_count": 47,
   "metadata": {
    "colab": {},
    "colab_type": "code",
    "id": "MoUyQr9RVp_B"
   },
   "outputs": [
    {
     "name": "stdout",
     "output_type": "stream",
     "text": [
      "599    The Dark Knight\n",
      "Name: original_title, dtype: object\n"
     ]
    },
    {
     "data": {
      "text/plain": [
       "599    tt0468569\n",
       "Name: imdb_id, dtype: object"
      ]
     },
     "execution_count": 47,
     "metadata": {},
     "output_type": "execute_result"
    }
   ],
   "source": [
    "data1 = data[data.release_year == 2008]\n",
    "print(data1[data1.revenue == data1.revenue.max()].original_title)\n",
    "data1[data1.revenue == data1.revenue.max()].imdb_id"
   ]
  },
  {
   "cell_type": "markdown",
   "metadata": {
    "colab_type": "text",
    "id": "Zi4hDKidVp_F"
   },
   "source": [
    "# 10. Самый убыточный фильм за период с 2012 по 2014 г. (включительно)?\n"
   ]
  },
  {
   "cell_type": "code",
   "execution_count": 158,
   "metadata": {
    "colab": {},
    "colab_type": "code",
    "id": "XqyRmufJVp_F"
   },
   "outputs": [],
   "source": [
    "answers['10'] = '1245. The Lone Ranger (tt1210819)'\n",
    "# +"
   ]
  },
  {
   "cell_type": "code",
   "execution_count": 51,
   "metadata": {},
   "outputs": [
    {
     "name": "stdout",
     "output_type": "stream",
     "text": [
      "1245    The Lone Ranger\n",
      "Name: original_title, dtype: object\n"
     ]
    },
    {
     "data": {
      "text/plain": [
       "1245    tt1210819\n",
       "Name: imdb_id, dtype: object"
      ]
     },
     "execution_count": 51,
     "metadata": {},
     "output_type": "execute_result"
    }
   ],
   "source": [
    "data1 = data[(data.release_year > 2011) & ((data.release_year < 2015))]\n",
    "print(data1[data1.revenue-data1.budget == profit.min()].original_title)\n",
    "data1[data1.revenue-data1.budget == profit.min()].imdb_id"
   ]
  },
  {
   "cell_type": "markdown",
   "metadata": {
    "colab_type": "text",
    "id": "EA7Sa9dkVp_I"
   },
   "source": [
    "# 11. Какого жанра фильмов больше всего?"
   ]
  },
  {
   "cell_type": "code",
   "execution_count": 159,
   "metadata": {
    "colab": {},
    "colab_type": "code",
    "id": "zsJAwJ8QVp_J"
   },
   "outputs": [],
   "source": [
    "# эту задачу тоже можно решать разными подходами, попробуй реализовать разные варианты\n",
    "# если будешь добавлять функцию - выноси ее в предобработку что в начале\n",
    "answers['11'] = 'Drama'\n",
    "# +"
   ]
  },
  {
   "cell_type": "code",
   "execution_count": 6,
   "metadata": {},
   "outputs": [
    {
     "data": {
      "text/plain": [
       "'Drama'"
      ]
     },
     "execution_count": 6,
     "metadata": {},
     "output_type": "execute_result"
    }
   ],
   "source": [
    "GenresDict = {}\n",
    "data.genres.apply(GenreCount)\n",
    "Max = 0\n",
    "Popular = ''\n",
    "for genre, amount in GenresDict.items():\n",
    "    if amount > Max:\n",
    "        Max = amount\n",
    "        Popular = genre\n",
    "Popular\n",
    "        "
   ]
  },
  {
   "cell_type": "markdown",
   "metadata": {
    "colab_type": "text",
    "id": "Ax6g2C8SVp_M"
   },
   "source": [
    "ВАРИАНТ 2"
   ]
  },
  {
   "cell_type": "code",
   "execution_count": 0,
   "metadata": {
    "colab": {},
    "colab_type": "code",
    "id": "otO3SbrSVp_N"
   },
   "outputs": [],
   "source": []
  },
  {
   "cell_type": "markdown",
   "metadata": {
    "colab_type": "text",
    "id": "T9_bPWpkVp_Q"
   },
   "source": [
    "# 12. Фильмы какого жанра чаще всего становятся прибыльными? "
   ]
  },
  {
   "cell_type": "code",
   "execution_count": 160,
   "metadata": {
    "colab": {},
    "colab_type": "code",
    "id": "Tmt8MaK1Vp_R"
   },
   "outputs": [],
   "source": [
    "answers['12'] = 'Drama'\n",
    "# +"
   ]
  },
  {
   "cell_type": "code",
   "execution_count": 27,
   "metadata": {},
   "outputs": [
    {
     "data": {
      "text/plain": [
       "'Drama'"
      ]
     },
     "execution_count": 27,
     "metadata": {},
     "output_type": "execute_result"
    }
   ],
   "source": [
    "GenresDict = {}\n",
    "data1 = data[(data.budget - data.revenue) > 0]\n",
    "data1.genres.apply(GenreCount)\n",
    "Max = 0\n",
    "Popular = ''\n",
    "for genre, amount in GenresDict.items():\n",
    "    if amount > Max:\n",
    "        Max = amount\n",
    "        Popular = genre\n",
    "Popular"
   ]
  },
  {
   "cell_type": "markdown",
   "metadata": {
    "colab_type": "text",
    "id": "0F23bgsDVp_U"
   },
   "source": [
    "# 13. У какого режиссера самые большие суммарные кассовые сборы?"
   ]
  },
  {
   "cell_type": "code",
   "execution_count": 161,
   "metadata": {
    "colab": {},
    "colab_type": "code",
    "id": "K6Z3J8ygVp_X"
   },
   "outputs": [],
   "source": [
    "answers['13'] = 'Peter Jackson'\n",
    "# +"
   ]
  },
  {
   "cell_type": "code",
   "execution_count": 213,
   "metadata": {},
   "outputs": [
    {
     "data": {
      "text/plain": [
       "689    Peter Jackson\n",
       "Name: director, dtype: object"
      ]
     },
     "execution_count": 213,
     "metadata": {},
     "output_type": "execute_result"
    }
   ],
   "source": [
    "Sum = data.groupby(['director'])['revenue'].sum()\n",
    "Sum = Sum.reset_index()\n",
    "Sum[Sum.revenue == Sum.revenue.max()].director"
   ]
  },
  {
   "cell_type": "markdown",
   "metadata": {
    "colab_type": "text",
    "id": "PsYC9FgRVp_a"
   },
   "source": [
    "# 14. Какой режисер снял больше всего фильмов в стиле Action?"
   ]
  },
  {
   "cell_type": "code",
   "execution_count": 162,
   "metadata": {
    "colab": {},
    "colab_type": "code",
    "id": "wd2M-wHeVp_b"
   },
   "outputs": [],
   "source": [
    "answers['14'] = 'Robert Rodriguez'\n",
    "# +"
   ]
  },
  {
   "cell_type": "code",
   "execution_count": 178,
   "metadata": {},
   "outputs": [
    {
     "data": {
      "text/plain": [
       "Michael Bay                    7\n",
       "Paul W.S. Anderson             7\n",
       "Robert Rodriguez               6\n",
       "Antoine Fuqua                  6\n",
       "Ridley Scott                   6\n",
       "                              ..\n",
       "Brian Taylor|Mark Neveldine    1\n",
       "Rob Minkoff                    1\n",
       "Kurt Wimmer                    1\n",
       "Sanjay Gadhvi                  1\n",
       "John Erick Dowdle              1\n",
       "Name: director, Length: 345, dtype: int64"
      ]
     },
     "execution_count": 178,
     "metadata": {},
     "output_type": "execute_result"
    }
   ],
   "source": [
    "data = pd.read_csv('movie_bd_v5.xls')\n",
    "Action = data.genres.apply(FindAction)\n",
    "data.genres = Action\n",
    "data[data.genres == 'Action'].director.value_counts()\n",
    "#Director"
   ]
  },
  {
   "cell_type": "markdown",
   "metadata": {
    "colab_type": "text",
    "id": "PQ0KciD7Vp_f"
   },
   "source": [
    "# 15. Фильмы с каким актером принесли самые высокие кассовые сборы в 2012 году? "
   ]
  },
  {
   "cell_type": "code",
   "execution_count": 163,
   "metadata": {
    "colab": {},
    "colab_type": "code",
    "id": "aga62oeKVp_g"
   },
   "outputs": [],
   "source": [
    "answers['15'] = 'Chris Hemsworth'\n",
    "# +"
   ]
  },
  {
   "cell_type": "code",
   "execution_count": 150,
   "metadata": {},
   "outputs": [
    {
     "data": {
      "text/plain": [
       "970    Robert Downey Jr.|Chris Evans|Mark Ruffalo|Chr...\n",
       "Name: cast, dtype: object"
      ]
     },
     "execution_count": 150,
     "metadata": {},
     "output_type": "execute_result"
    }
   ],
   "source": [
    "Actor = data[data.release_year == 2012]\n",
    "Actor[Actor.revenue == Actor.revenue.max()].cast"
   ]
  },
  {
   "cell_type": "markdown",
   "metadata": {
    "colab_type": "text",
    "id": "mWHyyL7QVp_j"
   },
   "source": [
    "# 16. Какой актер снялся в большем количестве высокобюджетных фильмов?"
   ]
  },
  {
   "cell_type": "code",
   "execution_count": 164,
   "metadata": {
    "colab": {},
    "colab_type": "code",
    "id": "qQtmHKTFVp_k"
   },
   "outputs": [],
   "source": [
    "answers['16'] = 'Matt Damon'\n",
    "# +"
   ]
  },
  {
   "cell_type": "code",
   "execution_count": 269,
   "metadata": {},
   "outputs": [
    {
     "data": {
      "text/plain": [
       "0       Chris Pratt|Bryce Dallas Howard|Irrfan Khan|Vi...\n",
       "1       Tom Hardy|Charlize Theron|Hugh Keays-Byrne|Nic...\n",
       "2       Shailene Woodley|Theo James|Kate Winslet|Ansel...\n",
       "3       Harrison Ford|Mark Hamill|Carrie Fisher|Adam D...\n",
       "4       Vin Diesel|Paul Walker|Jason Statham|Michelle ...\n",
       "                              ...                        \n",
       "1870    Eddie Murphy|Janet Jackson|Larry Miller|John A...\n",
       "1872    James Spader|Angela Bassett|Robert Forster|Lou...\n",
       "1875    Bruce Willis|Spencer Breslin|Emily Mortimer|Li...\n",
       "1884    Patrick Stewart|Hugh Jackman|Ian McKellen|Hall...\n",
       "1886    Rene Russo|Jason Alexander|Piper Perabo|Randy ...\n",
       "Name: cast, Length: 671, dtype: object"
      ]
     },
     "execution_count": 269,
     "metadata": {},
     "output_type": "execute_result"
    }
   ],
   "source": [
    "Actor = data[data.budget > data.budget.mean()]\n",
    "Actor.cast.apply(ActorCount)"
   ]
  },
  {
   "cell_type": "code",
   "execution_count": 275,
   "metadata": {},
   "outputs": [
    {
     "data": {
      "text/plain": [
       "'Matt Damon'"
      ]
     },
     "execution_count": 275,
     "metadata": {},
     "output_type": "execute_result"
    }
   ],
   "source": [
    "Max = 0\n",
    "artist = ''\n",
    "for key in Actors.keys():\n",
    "    if Actors[key] > Max:\n",
    "        Max = Actors[key]\n",
    "        artist = key\n",
    "\n",
    "artist\n"
   ]
  },
  {
   "cell_type": "markdown",
   "metadata": {
    "colab_type": "text",
    "id": "NIh6AaW5Vp_n"
   },
   "source": [
    "# 17. В фильмах какого жанра больше всего снимался Nicolas Cage? "
   ]
  },
  {
   "cell_type": "code",
   "execution_count": 165,
   "metadata": {
    "colab": {},
    "colab_type": "code",
    "id": "H74SJDIBVp_n"
   },
   "outputs": [],
   "source": [
    "answers['17'] = 'Action'\n",
    "# +"
   ]
  },
  {
   "cell_type": "code",
   "execution_count": 180,
   "metadata": {},
   "outputs": [
    {
     "data": {
      "text/plain": [
       "'Action'"
      ]
     },
     "execution_count": 180,
     "metadata": {},
     "output_type": "execute_result"
    }
   ],
   "source": [
    "data = pd.read_csv('movie_bd_v5.xls')\n",
    "GenresDict = {}\n",
    "Cage = data.cast.apply(FindCage)\n",
    "data1 = data\n",
    "data1.cast = Cage\n",
    "data1 = data1[data1.cast == 'Nicolas Cage']\n",
    "data1.genres.apply(GenreCount)\n",
    "Max = 0\n",
    "Popular = ''\n",
    "for genre, amount in GenresDict.items():\n",
    "    if amount > Max:\n",
    "        Max = amount\n",
    "        Popular = genre\n",
    "Popular"
   ]
  },
  {
   "cell_type": "markdown",
   "metadata": {
    "colab_type": "text",
    "id": "RqOmPRfWVp_q"
   },
   "source": [
    "# 18. Самый убыточный фильм от Paramount Pictures"
   ]
  },
  {
   "cell_type": "code",
   "execution_count": 166,
   "metadata": {
    "colab": {},
    "colab_type": "code",
    "id": "9E_B0Y96Vp_r"
   },
   "outputs": [],
   "source": [
    "answers['18'] = 'K-19: The Widowmaker (tt0267626)'\n",
    "# +"
   ]
  },
  {
   "cell_type": "code",
   "execution_count": 158,
   "metadata": {},
   "outputs": [
    {
     "name": "stdout",
     "output_type": "stream",
     "text": [
      "925    K-19: The Widowmaker\n",
      "Name: original_title, dtype: object\n"
     ]
    },
    {
     "data": {
      "text/plain": [
       "925    tt0267626\n",
       "Name: imdb_id, dtype: object"
      ]
     },
     "execution_count": 158,
     "metadata": {},
     "output_type": "execute_result"
    }
   ],
   "source": [
    "Film = data[data.production_companies.str.contains(\"Paramount Pictures\")]\n",
    "profit = Film.revenue - Film.budget\n",
    "print(Film[Film.revenue - Film.budget == profit.min()].original_title)\n",
    "Film[Film.revenue - Film.budget == profit.min()].imdb_id"
   ]
  },
  {
   "cell_type": "markdown",
   "metadata": {
    "colab_type": "text",
    "id": "vS8Ur6ddVp_u"
   },
   "source": [
    "# 19. Какой год стал самым успешным по суммарным кассовым сборам?"
   ]
  },
  {
   "cell_type": "code",
   "execution_count": 167,
   "metadata": {
    "colab": {},
    "colab_type": "code",
    "id": "Dnbt4GdIVp_v"
   },
   "outputs": [],
   "source": [
    "answers['19'] = '2015'\n",
    "# +"
   ]
  },
  {
   "cell_type": "code",
   "execution_count": 224,
   "metadata": {},
   "outputs": [
    {
     "data": {
      "text/plain": [
       "15    2015\n",
       "Name: release_year, dtype: int64"
      ]
     },
     "execution_count": 224,
     "metadata": {},
     "output_type": "execute_result"
    }
   ],
   "source": [
    "Success = data.groupby(['release_year'])['revenue'].sum()\n",
    "Success = Success.reset_index()\n",
    "Success[Success.revenue.max() == Success.revenue].release_year"
   ]
  },
  {
   "cell_type": "markdown",
   "metadata": {
    "colab_type": "text",
    "id": "JAzJh4QAVp_z"
   },
   "source": [
    "# 20. Какой самый прибыльный год для студии Warner Bros?"
   ]
  },
  {
   "cell_type": "code",
   "execution_count": 168,
   "metadata": {},
   "outputs": [],
   "source": [
    "answers['20'] = '2014'\n",
    "# +"
   ]
  },
  {
   "cell_type": "code",
   "execution_count": 182,
   "metadata": {},
   "outputs": [
    {
     "data": {
      "text/plain": [
       "14    2014\n",
       "Name: release_year, dtype: int64"
      ]
     },
     "execution_count": 182,
     "metadata": {},
     "output_type": "execute_result"
    }
   ],
   "source": [
    "Profit = data[data.production_companies.str.contains(\"Warner Bros\")]\n",
    "Profit = Profit.groupby(['release_year'])['revenue'].sum()\n",
    "Profit = Profit.reset_index()\n",
    "Profit[Profit.revenue == Profit.revenue.max()].release_year"
   ]
  },
  {
   "cell_type": "markdown",
   "metadata": {
    "colab_type": "text",
    "id": "8Im1S2HRVp_4"
   },
   "source": [
    "# 21. В каком месяце за все годы суммарно вышло больше всего фильмов?"
   ]
  },
  {
   "cell_type": "code",
   "execution_count": 169,
   "metadata": {
    "colab": {},
    "colab_type": "code",
    "id": "lev6TH7gVp_4"
   },
   "outputs": [],
   "source": [
    "answers['21'] = 'Сентябрь'\n",
    "# +"
   ]
  },
  {
   "cell_type": "code",
   "execution_count": 201,
   "metadata": {},
   "outputs": [
    {
     "data": {
      "text/plain": [
       "9     227\n",
       "12    190\n",
       "10    186\n",
       "8     161\n",
       "3     156\n",
       "4     149\n",
       "6     147\n",
       "11    146\n",
       "7     142\n",
       "5     140\n",
       "2     135\n",
       "1     110\n",
       "Name: release_date, dtype: int64"
      ]
     },
     "execution_count": 201,
     "metadata": {},
     "output_type": "execute_result"
    }
   ],
   "source": [
    "data.release_date.apply(MonthCounter).value_counts()"
   ]
  },
  {
   "cell_type": "markdown",
   "metadata": {
    "colab_type": "text",
    "id": "uAJsZ_NeVp_7"
   },
   "source": [
    "# 22. Сколько суммарно вышло фильмов летом? (за июнь, июль, август)"
   ]
  },
  {
   "cell_type": "code",
   "execution_count": 170,
   "metadata": {
    "colab": {},
    "colab_type": "code",
    "id": "Aa-hEREoVp_8"
   },
   "outputs": [],
   "source": [
    "answers['22'] = '450'\n",
    "# +"
   ]
  },
  {
   "cell_type": "code",
   "execution_count": 204,
   "metadata": {},
   "outputs": [
    {
     "data": {
      "text/plain": [
       "Фильм вышел не летом    1439\n",
       "Фильм вышел летом        450\n",
       "Name: release_date, dtype: int64"
      ]
     },
     "execution_count": 204,
     "metadata": {},
     "output_type": "execute_result"
    }
   ],
   "source": [
    "data.release_date.apply(SummerFilms).value_counts()"
   ]
  },
  {
   "cell_type": "markdown",
   "metadata": {
    "colab_type": "text",
    "id": "G94ppOY1VqAA"
   },
   "source": [
    "# 23. Для какого режиссера зима – самое продуктивное время года? "
   ]
  },
  {
   "cell_type": "code",
   "execution_count": 171,
   "metadata": {
    "colab": {},
    "colab_type": "code",
    "id": "RhNTsamuVqAB"
   },
   "outputs": [],
   "source": [
    "answers['23'] = 'Peter Jackson'\n",
    "# +"
   ]
  },
  {
   "cell_type": "code",
   "execution_count": 104,
   "metadata": {},
   "outputs": [
    {
     "data": {
      "text/html": [
       "<div>\n",
       "<style scoped>\n",
       "    .dataframe tbody tr th:only-of-type {\n",
       "        vertical-align: middle;\n",
       "    }\n",
       "\n",
       "    .dataframe tbody tr th {\n",
       "        vertical-align: top;\n",
       "    }\n",
       "\n",
       "    .dataframe thead th {\n",
       "        text-align: right;\n",
       "    }\n",
       "</style>\n",
       "<table border=\"1\" class=\"dataframe\">\n",
       "  <thead>\n",
       "    <tr style=\"text-align: right;\">\n",
       "      <th></th>\n",
       "      <th>revenue</th>\n",
       "    </tr>\n",
       "    <tr>\n",
       "      <th>director</th>\n",
       "      <th></th>\n",
       "    </tr>\n",
       "  </thead>\n",
       "  <tbody>\n",
       "    <tr>\n",
       "      <th>Peter Jackson</th>\n",
       "      <td>6490593685</td>\n",
       "    </tr>\n",
       "  </tbody>\n",
       "</table>\n",
       "</div>"
      ],
      "text/plain": [
       "                  revenue\n",
       "director                 \n",
       "Peter Jackson  6490593685"
      ]
     },
     "execution_count": 104,
     "metadata": {},
     "output_type": "execute_result"
    }
   ],
   "source": [
    "data = pd.read_csv('movie_bd_v5.xls')\n",
    "Director = data.release_date.apply(WinterFilms23)\n",
    "data.release_date = Director\n",
    "data = data[data.release_date == 'Winter']\n",
    "Director = data.pivot_table(values = 'revenue', index = 'director', columns = 'release_date', aggfunc = 'sum', fill_value = 0)\n",
    "Director.columns = ['revenue']\n",
    "Director[Director.revenue == Director.revenue.max()]"
   ]
  },
  {
   "cell_type": "markdown",
   "metadata": {
    "colab_type": "text",
    "id": "RBo0JVjVVqAF"
   },
   "source": [
    "# 24. Какая студия дает самые длинные названия своим фильмам по количеству символов?"
   ]
  },
  {
   "cell_type": "code",
   "execution_count": 172,
   "metadata": {
    "colab": {},
    "colab_type": "code",
    "id": "QRGS8L0iVqAG"
   },
   "outputs": [],
   "source": [
    "answers['24'] = 'Four By Two Productions'\n",
    "# +"
   ]
  },
  {
   "cell_type": "code",
   "execution_count": 125,
   "metadata": {},
   "outputs": [
    {
     "data": {
      "text/plain": [
       "'Four By Two Productions'"
      ]
     },
     "execution_count": 125,
     "metadata": {},
     "output_type": "execute_result"
    }
   ],
   "source": [
    "Titles = {}\n",
    "LengthTitle = data.original_title.apply(lambda x : len(x))\n",
    "LengthTitle\n",
    "Companies = data.production_companies.apply(lambda line : line.split('|'))\n",
    "Companies\n",
    "iteration = 0\n",
    "\n",
    "\n",
    "for CompanyList in Companies:\n",
    "    for company in CompanyList:\n",
    "        if company in Titles.keys():\n",
    "            Titles[company][1] += LengthTitle[iteration]\n",
    "            Titles[company][0] += 1\n",
    "        else:\n",
    "            Titles[company] = [1, LengthTitle[iteration]]\n",
    "    iteration += 1\n",
    "\n",
    "Max = 0\n",
    "Company = ''\n",
    "\n",
    "for company in Titles.keys():\n",
    "    Titles[company] = Titles[company][1]/Titles[company][0]\n",
    "    if Titles[company] > Max:\n",
    "        Max = Titles[company]\n",
    "        Company = company\n",
    "        \n",
    "Company  "
   ]
  },
  {
   "cell_type": "markdown",
   "metadata": {
    "colab_type": "text",
    "id": "9G0hbvR7VqAK"
   },
   "source": [
    "# 25. Описание фильмов какой студии в среднем самые длинные по количеству слов?"
   ]
  },
  {
   "cell_type": "code",
   "execution_count": 173,
   "metadata": {
    "colab": {},
    "colab_type": "code",
    "id": "Ge2GsLNxVqAK"
   },
   "outputs": [],
   "source": [
    "answers['25'] = 'Midnight Picture Show'\n",
    "# +"
   ]
  },
  {
   "cell_type": "code",
   "execution_count": 122,
   "metadata": {},
   "outputs": [
    {
     "data": {
      "text/plain": [
       "'Midnight Picture Show'"
      ]
     },
     "execution_count": 122,
     "metadata": {},
     "output_type": "execute_result"
    }
   ],
   "source": [
    "CompanyDict = {}\n",
    "LengthOverview = data.overview.apply(lambda x : len(x))\n",
    "LengthOverview\n",
    "Companies = data.production_companies.apply(lambda line : line.split('|'))\n",
    "Companies\n",
    "iteration = 0\n",
    "\n",
    "\n",
    "for CompanyList in Companies:\n",
    "    for company in CompanyList:\n",
    "        if company in CompanyDict.keys():\n",
    "            CompanyDict[company][1] += LengthOverview[iteration]\n",
    "            CompanyDict[company][0] += 1\n",
    "        else:\n",
    "            CompanyDict[company] = [1, LengthOverview[iteration]]\n",
    "    iteration += 1\n",
    "\n",
    "Max = 0\n",
    "Company = ''\n",
    "\n",
    "for company in CompanyDict.keys():\n",
    "    CompanyDict[company] = CompanyDict[company][1]/CompanyDict[company][0]\n",
    "    if CompanyDict[company] > Max:\n",
    "        Max = CompanyDict[company]\n",
    "        Company = company\n",
    "        \n",
    "Company  \n",
    "        \n"
   ]
  },
  {
   "cell_type": "code",
   "execution_count": null,
   "metadata": {},
   "outputs": [],
   "source": []
  },
  {
   "cell_type": "markdown",
   "metadata": {
    "colab_type": "text",
    "id": "FJ1AFt90VqAP"
   },
   "source": [
    "# 26. Какие фильмы входят в 1 процент лучших по рейтингу? \n",
    "по vote_average"
   ]
  },
  {
   "cell_type": "code",
   "execution_count": 174,
   "metadata": {
    "colab": {},
    "colab_type": "code",
    "id": "8qmJVq4CVqAQ"
   },
   "outputs": [],
   "source": [
    "answers['26'] = 'Inside Out, The Dark Knight, 12 Years a Slave'\n",
    "# +"
   ]
  },
  {
   "cell_type": "code",
   "execution_count": 93,
   "metadata": {
    "scrolled": true
   },
   "outputs": [
    {
     "data": {
      "text/plain": [
       "['12 Years a Slave',\n",
       " 'Big Hero 6',\n",
       " 'Gone Girl',\n",
       " 'Guardians of the Galaxy',\n",
       " 'Her',\n",
       " 'Inception',\n",
       " 'Inside Out',\n",
       " 'Interstellar',\n",
       " 'Memento',\n",
       " 'Room',\n",
       " 'Spotlight',\n",
       " 'The Dark Knight',\n",
       " 'The Fault in Our Stars',\n",
       " 'The Grand Budapest Hotel',\n",
       " 'The Imitation Game',\n",
       " 'The Lord of the Rings: The Return of the King',\n",
       " 'The Pianist',\n",
       " 'The Wolf of Wall Street']"
      ]
     },
     "execution_count": 93,
     "metadata": {},
     "output_type": "execute_result"
    }
   ],
   "source": [
    "BestFilms = data.sort_values(['vote_average'], ascending = False)\n",
    "BestFilms = BestFilms.head(18)\n",
    "BestFilms = list(BestFilms.original_title)\n",
    "sorted(BestFilms)"
   ]
  },
  {
   "cell_type": "markdown",
   "metadata": {
    "colab_type": "text",
    "id": "MdXsUXbCVqAV"
   },
   "source": [
    "# 27. Какие актеры чаще всего снимаются в одном фильме вместе?\n"
   ]
  },
  {
   "cell_type": "code",
   "execution_count": 175,
   "metadata": {},
   "outputs": [],
   "source": [
    "answers['27'] = 'Daniel Radcliffe & Rupert Grint'\n",
    "# +"
   ]
  },
  {
   "cell_type": "code",
   "execution_count": 137,
   "metadata": {},
   "outputs": [
    {
     "data": {
      "text/plain": [
       "'Daniel Radcliffe & Rupert Grint'"
      ]
     },
     "execution_count": 137,
     "metadata": {},
     "output_type": "execute_result"
    }
   ],
   "source": [
    "ActorsDict = {}\n",
    "Actors = data.cast.apply(lambda x : x.split('|'))\n",
    "for ActorsLine in Actors:\n",
    "    for j in range(0, len(ActorsLine)-1):\n",
    "        for i in range(j+1, len(ActorsLine)):\n",
    "            s1 = ActorsLine[j]+' & '+ActorsLine[i]\n",
    "            s2 = ActorsLine[i]+' & '+ActorsLine[j]\n",
    "            if (s1 in ActorsDict.keys()) & (s2 not in ActorsDict.keys()):\n",
    "                ActorsDict[s1] += 1\n",
    "            else:\n",
    "                if (s1 not in ActorsDict.keys()) & (s2 in ActorsDict.keys()):\n",
    "                    ActorsDict[s2] += 1\n",
    "                else:\n",
    "                    ActorsDict[s1] = 1\n",
    "\n",
    "Max = 0\n",
    "Couple = ''\n",
    "for couple in ActorsDict.keys():\n",
    "    if ActorsDict[couple] > Max:\n",
    "        Max = ActorsDict[couple]\n",
    "        Couple = couple\n",
    "Couple"
   ]
  },
  {
   "cell_type": "markdown",
   "metadata": {
    "colab_type": "text",
    "id": "4ymnxEVoVqAW"
   },
   "source": [
    "ВАРИАНТ 2"
   ]
  },
  {
   "cell_type": "markdown",
   "metadata": {
    "colab_type": "text",
    "id": "U0nONFnGVqAX"
   },
   "source": [
    "# Submission"
   ]
  },
  {
   "cell_type": "code",
   "execution_count": 176,
   "metadata": {
    "colab": {},
    "colab_type": "code",
    "id": "IfcaRO9-VqAX",
    "outputId": "0f132912-32bb-4196-c98c-abfbc4ad5a5f"
   },
   "outputs": [
    {
     "data": {
      "text/plain": [
       "{'25': 'Midnight Picture Show',\n",
       " '27': 'Daniel Radcliffe & Rupert Grint',\n",
       " '23': 'Peter Jackson',\n",
       " '24': 'Four By Two Productions',\n",
       " '26': 'Inside Out, The Dark Knight, 12 Years a Slave',\n",
       " '1': '723. Pirates of the Caribbean: On Stranger Tides (tt1298650)',\n",
       " '2': '1157. Gods and Generals (tt0279111)',\n",
       " '3': '768. Winnie the Pooh (tt1449283)',\n",
       " '4': 110,\n",
       " '5': 107,\n",
       " '6': '239. Avatar (tt0499549)',\n",
       " '7': '1245. The Lone Ranger (tt1210819)',\n",
       " '8': 1478,\n",
       " '9': '599. The Dark Knight (tt0468569)',\n",
       " '10': '1245. The Lone Ranger (tt1210819)',\n",
       " '11': 'Drama',\n",
       " '12': 'Drama',\n",
       " '13': 'Peter Jackson',\n",
       " '14': 'Robert Rodriguez',\n",
       " '15': 'Chris Hemsworth',\n",
       " '16': 'Matt Damon',\n",
       " '17': 'Action',\n",
       " '18': 'K-19: The Widowmaker (tt0267626)',\n",
       " '19': '2015',\n",
       " '20': '2014',\n",
       " '21': 'Сентябрь',\n",
       " '22': '450'}"
      ]
     },
     "execution_count": 176,
     "metadata": {},
     "output_type": "execute_result"
    }
   ],
   "source": [
    "# в конце можно посмотреть свои ответы к каждому вопросу\n",
    "answers"
   ]
  },
  {
   "cell_type": "code",
   "execution_count": 177,
   "metadata": {
    "colab": {},
    "colab_type": "code",
    "id": "SiRmHPl8VqAd"
   },
   "outputs": [
    {
     "data": {
      "text/plain": [
       "27"
      ]
     },
     "execution_count": 177,
     "metadata": {},
     "output_type": "execute_result"
    }
   ],
   "source": [
    "# и убедиться что ни чего не пропустил)\n",
    "len(answers)"
   ]
  },
  {
   "cell_type": "code",
   "execution_count": 0,
   "metadata": {
    "colab": {},
    "colab_type": "code",
    "id": "uCfuTkRbVqAg"
   },
   "outputs": [],
   "source": []
  },
  {
   "cell_type": "code",
   "execution_count": 0,
   "metadata": {
    "colab": {},
    "colab_type": "code",
    "id": "Vwx3NrkSVqAl"
   },
   "outputs": [],
   "source": []
  }
 ],
 "metadata": {
  "colab": {
   "name": "Copy of [SF-DST] Movies IMBD v4.1 TEMPLATE.ipynb",
   "provenance": []
  },
  "kernelspec": {
   "display_name": "Python 3",
   "language": "python",
   "name": "python3"
  },
  "language_info": {
   "codemirror_mode": {
    "name": "ipython",
    "version": 3
   },
   "file_extension": ".py",
   "mimetype": "text/x-python",
   "name": "python",
   "nbconvert_exporter": "python",
   "pygments_lexer": "ipython3",
   "version": "3.8.5"
  }
 },
 "nbformat": 4,
 "nbformat_minor": 1
}
